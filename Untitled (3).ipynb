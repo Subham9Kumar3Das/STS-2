{
 "cells": [
  {
   "cell_type": "markdown",
   "id": "a71e0eb6-3bda-4839-aef6-57da6eff8057",
   "metadata": {},
   "source": [
    "Q1: What are the Probability Mass Function (PMF) and Probability Density Function (PDF)? Explain with\n",
    "an example.\n",
    "\n",
    "Q2: What is Cumulative Density Function (CDF)? Explain with an example. Why CDF is used?\n",
    "\n",
    "Q3: What are some examples of situations where the normal distribution might be used as a model?\n",
    "Explain how the parameters of the normal distribution relate to the shape of the distribution.\n",
    "\n",
    "Q4: Explain the importance of Normal Distribution. Give a few real-life examples of Normal\n",
    "Distribution.\n",
    "\n",
    "Q5: What is Bernaulli Distribution? Give an Example. What is the difference between Bernoulli\n",
    "Distribution and Binomial Distribution?\n",
    "\n",
    "Q6. Consider a dataset with a mean of 50 and a standard deviation of 10. If we assume that the dataset\n",
    "is normally distributed, what is the probability that a randomly selected observation will be greater\n",
    "than 60? Use the appropriate formula and show your calculations.\n",
    "\n",
    "Q7: Explain uniform Distribution with an example.\n",
    "\n",
    "Q8: What is the z score? State the importance of the z score.\n",
    "\n",
    "Q9: What is Central Limit Theorem? State the significance of the Central Limit Theorem.\n",
    "\n",
    "Q10: State the assumptions of the Central Limit Theorem."
   ]
  },
  {
   "cell_type": "markdown",
   "id": "5daa047f-70f5-4b33-9994-fe6c73c4604e",
   "metadata": {},
   "source": [
    "## Q1."
   ]
  },
  {
   "cell_type": "markdown",
   "id": "445043af-2239-40ef-8359-a5664a62d164",
   "metadata": {},
   "source": [
    "Probability Mass Function (PMF) is used for discrete random variables, providing the probability of each possible outcome. Probability Density Function (PDF) is for continuous random variables, representing the likelihood of a value falling within a range.\n",
    "\n",
    "Example:\n",
    "\n",
    "PMF: Rolling a fair six-sided die, PMF assigns 1/6 probability to each possible outcome (1, 2, 3, 4, 5, 6).\n",
    "PDF: Height of individuals in a population, where the PDF gives the probability density for different height values."
   ]
  },
  {
   "cell_type": "markdown",
   "id": "13e171c3-e2e0-48b9-a8b6-030b971432d4",
   "metadata": {},
   "source": [
    "## Q2."
   ]
  },
  {
   "cell_type": "markdown",
   "id": "99dc43b3-227f-4c43-be89-91b649ebf6bd",
   "metadata": {},
   "source": [
    "Cumulative Density Function (CDF) gives the probability that a random variable takes a value less than or equal to a given point. It helps in understanding the distribution of the data.\n",
    "\n",
    "Example:\n",
    "\n",
    "CDF for the six-sided die would show the cumulative probability for each outcome up to a specific point."
   ]
  },
  {
   "cell_type": "markdown",
   "id": "96e19187-3ee6-4e58-a789-dab9220deaf6",
   "metadata": {},
   "source": [
    "## Q3."
   ]
  },
  {
   "cell_type": "markdown",
   "id": "4bafbee0-82a6-483d-b890-fcc092b4eb53",
   "metadata": {},
   "source": [
    "Normal distribution is used in situations like height measurements, exam scores, and IQ scores. Parameters (mean and standard deviation) determine the distribution's center and spread."
   ]
  },
  {
   "cell_type": "markdown",
   "id": "cf705c23-554a-4417-8523-8532b610c3f0",
   "metadata": {},
   "source": [
    "## Q4."
   ]
  },
  {
   "cell_type": "markdown",
   "id": "eacb8318-b91f-4504-a76d-bc50468616a2",
   "metadata": {},
   "source": [
    "The normal distribution is crucial in statistics and probability theory. Real-life examples include IQ scores, heights of a population, and measurement errors."
   ]
  },
  {
   "cell_type": "markdown",
   "id": "811f6377-e2af-4b19-9f2c-07d03481d69e",
   "metadata": {},
   "source": [
    "## Q5."
   ]
  },
  {
   "cell_type": "markdown",
   "id": "ac344866-b8bf-4a54-952d-10a5831b99b8",
   "metadata": {},
   "source": [
    "Bernoulli Distribution models a binary outcome (success or failure) with a single trial. Example: Flipping a coin.\n",
    "\n",
    "Difference from Binomial Distribution: Bernoulli is a single trial, while Binomial is the sum of multiple independent Bernoulli trials."
   ]
  },
  {
   "cell_type": "markdown",
   "id": "c7cb64ec-6fa0-486d-8b51-b5ac856dcb07",
   "metadata": {},
   "source": [
    "## Q6."
   ]
  },
  {
   "cell_type": "markdown",
   "id": "cdf19e47-0fba-4f48-976f-a6ae91573ffe",
   "metadata": {},
   "source": [
    "Using the Z-score formula (Z = (X - μ) / σ), where X is the value, μ is the mean, and σ is the standard deviation:\n",
    "\n",
    "=\n",
    "(\n",
    "60\n",
    "−\n",
    "50\n",
    ")\n",
    "/\n",
    "10\n",
    "=\n",
    "1\n",
    "Z=(60−50)/10=1\n",
    "Consulting a Z-table or using a calculator, the probability is about 0.8413."
   ]
  },
  {
   "cell_type": "markdown",
   "id": "de07b232-0be3-4ad2-8230-e3a0fec8a107",
   "metadata": {},
   "source": [
    "## Q7."
   ]
  },
  {
   "cell_type": "markdown",
   "id": "395d9500-159b-4904-98ae-c38be542cf6d",
   "metadata": {},
   "source": [
    "Uniform Distribution has constant probability, with all outcomes equally likely within a specified range.\n",
    "\n",
    "Example: Rolling a fair six-sided die, where each number has a 1/6 probability."
   ]
  },
  {
   "cell_type": "markdown",
   "id": "cce8b825-42d1-44be-afa4-a7d4e4dc673b",
   "metadata": {},
   "source": [
    "## Q8."
   ]
  },
  {
   "cell_type": "markdown",
   "id": "c83d77b4-c76d-4a1c-ae9e-3e10a8e2ffae",
   "metadata": {},
   "source": [
    "The Z-score standardizes data, indicating how many standard deviations a data point is from the mean. It's essential for comparing and interpreting scores in different distributions."
   ]
  },
  {
   "cell_type": "markdown",
   "id": "63f8bcf0-87b6-42f1-9386-9b6c61fd17f5",
   "metadata": {},
   "source": [
    "## Q9."
   ]
  },
  {
   "cell_type": "markdown",
   "id": "662c030f-590e-439d-8ad4-7656b66d02eb",
   "metadata": {},
   "source": [
    "Central Limit Theorem states that the sum or average of a large number of independent, identically distributed random variables will be approximately normally distributed, regardless of the original distribution."
   ]
  },
  {
   "cell_type": "markdown",
   "id": "d7a696fe-a459-4e57-beb8-5293b9031181",
   "metadata": {},
   "source": [
    "## Q10."
   ]
  },
  {
   "cell_type": "markdown",
   "id": "5e5bf4e1-d306-47d8-9718-0b7fb4a3448a",
   "metadata": {},
   "source": [
    "Assumptions of the Central Limit Theorem:\n",
    "\n",
    "* The data must come from a random sample.\n",
    "* The sample size should be sufficiently large (usually n ≥ 30).\n",
    "* The underlying population distribution should not be extremely skewed."
   ]
  },
  {
   "cell_type": "code",
   "execution_count": null,
   "id": "91a16e73-a08f-4152-8f36-89f215824761",
   "metadata": {},
   "outputs": [],
   "source": []
  }
 ],
 "metadata": {
  "kernelspec": {
   "display_name": "Python 3 (ipykernel)",
   "language": "python",
   "name": "python3"
  },
  "language_info": {
   "codemirror_mode": {
    "name": "ipython",
    "version": 3
   },
   "file_extension": ".py",
   "mimetype": "text/x-python",
   "name": "python",
   "nbconvert_exporter": "python",
   "pygments_lexer": "ipython3",
   "version": "3.10.8"
  }
 },
 "nbformat": 4,
 "nbformat_minor": 5
}
